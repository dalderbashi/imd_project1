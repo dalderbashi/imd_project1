{
 "cells": [
  {
   "cell_type": "markdown",
   "metadata": {},
   "source": [
    "### UR Bootcamp Team Project:  Diana, Marie, Irene\n",
    "### Homework #7: Using APIs, statisics and mapping to conduct regional economic data analyses\n",
    "\n",
    "## *Analysis of Richmond Metro Businesses and Associated Economics by Zip Code area*"
   ]
  },
  {
   "cell_type": "markdown",
   "metadata": {},
   "source": [
    "###  Problem Statement:\n",
    "\n",
    "In this study, we are interested in what major employers are in the metro Richmond area, where they are located\n",
    "as indicated by zip code and whether there are associations with adjoining poverty, salary rates, and home values.\n",
    "\n",
    "In addition, we consider the overall types of employers in the Greater Richmond, as an indicator for those likely \n",
    "to hire data analysts or IT professionals.  We also compare the connection to the \"2018 Best Places to Work\" \n",
    "as determined from the Richmond Times Digest annual survey to the largest private employers in the region.\n",
    "\n",
    "\n",
    "### Initial Research Questions:\n",
    "\n",
    "*  What is the economic \"backdrop\" for economic development in the Richmond area, based on demographics?\n",
    "   Where are the highs/lows?\n",
    "*  What businesses form the economic basis of the Richmond Area?\n",
    "*  Are there clear relationships between the presence of businesses and the demographics of surrounding areas?\n",
    "*  Where might there be opportunities for business development?\n",
    "*  Which business lines are likely to require data analysts and IT professionals?\n",
    "*  Is there a connection between the largest employers and best places to work?\n"
   ]
  },
  {
   "cell_type": "markdown",
   "metadata": {},
   "source": [
    "### Government Data used in the analysis\n",
    "    \n",
    "<img src=\"./Resources/Census_logo.png\"\n",
    "\ttitle=\"Census\" width=\"150\" height=\"100\" align = \"right\" />\n",
    "\n",
    "The United States Census Bureau API was accessed to obtain and map demographic data \n",
    "by Zip Codes for Richmond and 13 surrounding counties:\n",
    "    \n",
    "    * poverty rate\n",
    "    * unemployment rate\n",
    "    * median income\n",
    "    * median home values\n"
   ]
  },
  {
   "cell_type": "markdown",
   "metadata": {},
   "source": [
    "### Public Data used in the analysis\n",
    "    \n",
    "<img src=\"./Resources/BestPlacestoWork.jpg\"\n",
    "\ttitle=\"Places\" width=\"150\" height=\"100\" align = \"right\" />\n",
    "\n",
    "The Richmond Times Digest conducts a \"Best Places to Work in Richmond\" annual survey that solicits inputs\n",
    "from small, mid-size, large, and mega-large companies in the region.  The survey received responses from \n",
    "about 17,760 employees on numerous topics affecting workplace life, from their views \n",
    "on leadership, managers, pay and benefits to training and work-life balance. It also looked at other factors \n",
    "including how employers encourage community involvement and how businesses promote diversity.  \n",
    "\n",
    "Sixty-five businesses were recognized as \"Best Places to Work in 2018\" and provided in an online Excel file.\n",
    "\n"
   ]
  },
  {
   "cell_type": "markdown",
   "metadata": {},
   "source": [
    "### Private Data used in the analysis\n",
    "    \n",
    "<img src=\"./Resources/GRP_Logo.png\"\n",
    "\ttitle=\"GRP\" width=\"150\" height=\"100\" align = \"right\" />\n",
    "\n",
    "### About the Greater Richmond Partnership\n",
    "\n",
    "The Greater Richmond Partnership, Inc. (GRP) is the lead regional economic development organization for the City of Richmond\n",
    "and the counties of Chesterfield, Hanover and Henrico in Virginia. GRP impacts the Richmond Region by recruiting companies \n",
    "from all over the globe, which provide employment opportunities and taxable capital investment for our local community.\n",
    "\n",
    "Much of the specific business data that is needed to understand both business interests and patterns of development are not\n",
    "publically available without paying for data access.  As a proactive measure, our team reached out to the VP of Business Development\n",
    "and Research at the GRP, described our involvement in the UR Bootcamp class, and requested the opportunity to work with\n",
    "some of the GRP data sets as a means to learn data analytics techniques as well as economic development in Richmond. \n",
    "\n",
    "The GRP provided several data sets describing businesses in the Richmond area, including a compilation of all businesses\n",
    "with more than 5 employees by \"Main Line of Business\"."
   ]
  },
  {
   "cell_type": "markdown",
   "metadata": {},
   "source": [
    "> ##  Analysis Results\n",
    "> Regional statistics: mean, max, min, quartiles for the unemployment, poverty, income, median housing\n",
    "    \n",
    "> ### Population by zip\n",
    "\n",
    ">**Figure 1. Poverty Density per zip code area**  (Diana)\n",
    ">  (Add the river and counties)\n",
    ">\n",
    ">  There is a strong relationship...\n",
    ">Downtown Richmond has some of the highest poverty rates, > 30%.  \n",
    ">Manquin is anomalous with the highest rate/concentration (rural, low population)\n",
    "                                                                                                    \n",
    ">\n",
    "> ### **Figure 2. Income Levels per zip code area**  (Diana)\n",
    "> Suburbs of Richmond are higher overall income\n",
    "> (North) West End of Richmond has highest income (Carmax and CapOne, Markel, AECOM)\n",
    "> (South of the River, Midlothian) along the river has higher values\n",
    "\n",
    "> ### **Figure 3. Unemployment Levels per zip code area**  (Diana)\n",
    "> fix scaling..  less conclusive per geography\n",
    ">\n",
    "> ### **Figure 4. Median Housing per zip code area**  (Diana)\n",
    "> Along the river (north and south and west).  Along 64 Corridor to the ocean\n",
    ">\n",
    "> ### **Figure 5. Business density per zip code area**  (Marie)\n",
    ">\n",
    ">\n",
    "> ### **Figure 6. Major business categories from Master List**  (Marie)\n",
    "\n",
    ">\n",
    "> ### **Figure 7. Correlation between largest employers and Best Places to Work**  (Irene)\n",
    ">  Only 10 of the Best on the Largest list\n",
    "\n",
    ">\n",
    ">### **Figure 8. Possible geographic targets for economic development where financial incentives might help\n",
    "> Prospectives for employment (All)\n",
    "> Markers on our maps\n",
    ">\n",
    ">**\n",
    "> ### ADDTIONAL WORK: \n",
    ">\n",
    "> ### ****\n",
    ">\n",
    ">\n",
    ">\n",
    "> ## Conclusions.\n",
    ">\n",
    ">1. \n",
    ">2. \n",
    ">3. \n",
    ">4. "
   ]
  },
  {
   "cell_type": "code",
   "execution_count": 103,
   "metadata": {},
   "outputs": [],
   "source": [
    "# Dependencies and Setup\n",
    "import matplotlib.pyplot as plt\n",
    "import gmaps\n",
    "from scipy import stats\n",
    "import pandas as pd\n",
    "import numpy as np\n",
    "import requests\n",
    "import time\n",
    "import json\n",
    "from time import gmtime, strftime \n",
    "\n",
    "# Hide warning messages in notebook\n",
    "import warnings\n",
    "warnings.filterwarnings('ignore')\n",
    "\n"
   ]
  },
  {
   "cell_type": "code",
   "execution_count": 51,
   "metadata": {},
   "outputs": [
    {
     "name": "stdout",
     "output_type": "stream",
     "text": [
      "23600\n"
     ]
    },
    {
     "data": {
      "text/html": [
       "<div>\n",
       "<style scoped>\n",
       "    .dataframe tbody tr th:only-of-type {\n",
       "        vertical-align: middle;\n",
       "    }\n",
       "\n",
       "    .dataframe tbody tr th {\n",
       "        vertical-align: top;\n",
       "    }\n",
       "\n",
       "    .dataframe thead th {\n",
       "        text-align: right;\n",
       "    }\n",
       "</style>\n",
       "<table border=\"1\" class=\"dataframe\">\n",
       "  <thead>\n",
       "    <tr style=\"text-align: right;\">\n",
       "      <th></th>\n",
       "      <th>Main Line of Business</th>\n",
       "    </tr>\n",
       "  </thead>\n",
       "  <tbody>\n",
       "    <tr>\n",
       "      <th>Restaurants</th>\n",
       "      <td>1851</td>\n",
       "    </tr>\n",
       "    <tr>\n",
       "      <th>Consulting &amp; LLCs</th>\n",
       "      <td>883</td>\n",
       "    </tr>\n",
       "    <tr>\n",
       "      <th>Residential Building Construction</th>\n",
       "      <td>629</td>\n",
       "    </tr>\n",
       "    <tr>\n",
       "      <th>Physicians &amp; Surgeons</th>\n",
       "      <td>609</td>\n",
       "    </tr>\n",
       "    <tr>\n",
       "      <th>Churches</th>\n",
       "      <td>559</td>\n",
       "    </tr>\n",
       "  </tbody>\n",
       "</table>\n",
       "</div>"
      ],
      "text/plain": [
       "                                   Main Line of Business\n",
       "Restaurants                                         1851\n",
       "Consulting & LLCs                                    883\n",
       "Residential Building Construction                    629\n",
       "Physicians & Surgeons                                609\n",
       "Churches                                             559"
      ]
     },
     "execution_count": 51,
     "metadata": {},
     "output_type": "execute_result"
    }
   ],
   "source": [
    "# Read the Metro area business data from the csv Master file.\n",
    "business_data_to_load = \"Master_Employers_nohdr.csv\"\n",
    "#print(business_data_to_load)\n",
    "\n",
    "# Not every CSV requires an encoding, but be aware this can come up\n",
    "business_data = pd.read_csv(business_data_to_load, encoding=\"ISO-8859-1\")\n",
    "\n",
    "#business_data.head()\n",
    "\n",
    "main_biz = business_data[\"Main Line of Business\"].dropna()\n",
    "print(len(main_biz))\n",
    "#main_biz.head()\n",
    "counts = pd.DataFrame(main_biz.value_counts()).rename({\"Nonclassified Establishments\": \"Consulting & LLCs\"})\n",
    "counts.head()"
   ]
  },
  {
   "cell_type": "code",
   "execution_count": 64,
   "metadata": {},
   "outputs": [
    {
     "data": {
      "text/html": [
       "<div>\n",
       "<style scoped>\n",
       "    .dataframe tbody tr th:only-of-type {\n",
       "        vertical-align: middle;\n",
       "    }\n",
       "\n",
       "    .dataframe tbody tr th {\n",
       "        vertical-align: top;\n",
       "    }\n",
       "\n",
       "    .dataframe thead th {\n",
       "        text-align: right;\n",
       "    }\n",
       "</style>\n",
       "<table border=\"1\" class=\"dataframe\">\n",
       "  <thead>\n",
       "    <tr style=\"text-align: right;\">\n",
       "      <th></th>\n",
       "      <th>Main Line of Business</th>\n",
       "    </tr>\n",
       "  </thead>\n",
       "  <tbody>\n",
       "    <tr>\n",
       "      <th>Restaurants</th>\n",
       "      <td>1851</td>\n",
       "    </tr>\n",
       "    <tr>\n",
       "      <th>Consulting &amp; LLCs</th>\n",
       "      <td>883</td>\n",
       "    </tr>\n",
       "    <tr>\n",
       "      <th>Residential Building Construction</th>\n",
       "      <td>629</td>\n",
       "    </tr>\n",
       "    <tr>\n",
       "      <th>Physicians &amp; Surgeons</th>\n",
       "      <td>609</td>\n",
       "    </tr>\n",
       "    <tr>\n",
       "      <th>Churches</th>\n",
       "      <td>559</td>\n",
       "    </tr>\n",
       "    <tr>\n",
       "      <th>Beauty Salons</th>\n",
       "      <td>481</td>\n",
       "    </tr>\n",
       "    <tr>\n",
       "      <th>Elementary &amp; Secondary Schools</th>\n",
       "      <td>369</td>\n",
       "    </tr>\n",
       "    <tr>\n",
       "      <th>Insurance Agents, Brokers, &amp; Service</th>\n",
       "      <td>366</td>\n",
       "    </tr>\n",
       "    <tr>\n",
       "      <th>Convenience Stores</th>\n",
       "      <td>315</td>\n",
       "    </tr>\n",
       "    <tr>\n",
       "      <th>Real Estate Agents &amp; Managers</th>\n",
       "      <td>311</td>\n",
       "    </tr>\n",
       "  </tbody>\n",
       "</table>\n",
       "</div>"
      ],
      "text/plain": [
       "                                      Main Line of Business\n",
       "Restaurants                                            1851\n",
       "Consulting & LLCs                                       883\n",
       "Residential Building Construction                       629\n",
       "Physicians & Surgeons                                   609\n",
       "Churches                                                559\n",
       "Beauty Salons                                           481\n",
       "Elementary & Secondary Schools                          369\n",
       "Insurance Agents, Brokers, & Service                    366\n",
       "Convenience Stores                                      315\n",
       "Real Estate Agents & Managers                           311"
      ]
     },
     "execution_count": 64,
     "metadata": {},
     "output_type": "execute_result"
    }
   ],
   "source": [
    "comp_gt_1 = counts[counts[\"Main Line of Business\"] > 1]\n",
    "comp_gt_1.head(10)\n"
   ]
  },
  {
   "cell_type": "code",
   "execution_count": 62,
   "metadata": {},
   "outputs": [
    {
     "data": {
      "text/html": [
       "<div>\n",
       "<style scoped>\n",
       "    .dataframe tbody tr th:only-of-type {\n",
       "        vertical-align: middle;\n",
       "    }\n",
       "\n",
       "    .dataframe tbody tr th {\n",
       "        vertical-align: top;\n",
       "    }\n",
       "\n",
       "    .dataframe thead th {\n",
       "        text-align: right;\n",
       "    }\n",
       "</style>\n",
       "<table border=\"1\" class=\"dataframe\">\n",
       "  <thead>\n",
       "    <tr style=\"text-align: right;\">\n",
       "      <th></th>\n",
       "      <th>Main Line of Business</th>\n",
       "    </tr>\n",
       "  </thead>\n",
       "  <tbody>\n",
       "    <tr>\n",
       "      <th>Satellite Installation</th>\n",
       "      <td>2</td>\n",
       "    </tr>\n",
       "    <tr>\n",
       "      <th>Rooming &amp; Boarding Houses</th>\n",
       "      <td>2</td>\n",
       "    </tr>\n",
       "    <tr>\n",
       "      <th>Luggage &amp; Leather Goods Stores</th>\n",
       "      <td>2</td>\n",
       "    </tr>\n",
       "    <tr>\n",
       "      <th>Communication &amp; Computer Security System Services</th>\n",
       "      <td>2</td>\n",
       "    </tr>\n",
       "    <tr>\n",
       "      <th>Bottled Water Companies</th>\n",
       "      <td>2</td>\n",
       "    </tr>\n",
       "    <tr>\n",
       "      <th>Paints, Varnishes, Lacquers, Enamels, &amp; Allied Products Mfg</th>\n",
       "      <td>2</td>\n",
       "    </tr>\n",
       "    <tr>\n",
       "      <th>Concrete Products Wholesale</th>\n",
       "      <td>2</td>\n",
       "    </tr>\n",
       "    <tr>\n",
       "      <th>Roofing Consultants</th>\n",
       "      <td>2</td>\n",
       "    </tr>\n",
       "    <tr>\n",
       "      <th>Executive Search Consultants</th>\n",
       "      <td>2</td>\n",
       "    </tr>\n",
       "    <tr>\n",
       "      <th>Hair Goods &amp; Supplies Stores</th>\n",
       "      <td>2</td>\n",
       "    </tr>\n",
       "  </tbody>\n",
       "</table>\n",
       "</div>"
      ],
      "text/plain": [
       "                                                    Main Line of Business\n",
       "Satellite Installation                                                  2\n",
       "Rooming & Boarding Houses                                               2\n",
       "Luggage & Leather Goods Stores                                          2\n",
       "Communication & Computer Security System Services                       2\n",
       "Bottled Water Companies                                                 2\n",
       "Paints, Varnishes, Lacquers, Enamels, & Allied ...                      2\n",
       "Concrete Products Wholesale                                             2\n",
       "Roofing Consultants                                                     2\n",
       "Executive Search Consultants                                            2\n",
       "Hair Goods & Supplies Stores                                            2"
      ]
     },
     "execution_count": 62,
     "metadata": {},
     "output_type": "execute_result"
    }
   ],
   "source": [
    "comp_gt_1.tail(10)"
   ]
  },
  {
   "cell_type": "code",
   "execution_count": 97,
   "metadata": {},
   "outputs": [
    {
     "data": {
      "text/plain": [
       "[<matplotlib.lines.Line2D at 0x1e96caf57f0>]"
      ]
     },
     "execution_count": 97,
     "metadata": {},
     "output_type": "execute_result"
    },
    {
     "data": {
      "image/png": "[encoded data removed]",
      "text/plain": [
       "<Figure size 1440x720 with 1 Axes>"
      ]
     },
     "metadata": {
      "needs_background": "light"
     },
     "output_type": "display_data"
    }
   ],
   "source": [
    "# Plot businesses as a distribution\n",
    "\n",
    "plt.figure(figsize=(20,10))\n",
    "plt.title('Figure . Main Line of Business Distribution', fontsize=18)\n",
    "plt.xlabel('Type ID', fontsize=14)\n",
    "plt.ylabel('Count of each business type', fontsize=14)\n",
    "plt.grid()\n",
    "# Set x axis and tick locations\n",
    "x_axis = np.arange(len(comp_gt_1))\n",
    "\n",
    "# Tells matplotlib that we want to make a scatter plot\n",
    "# The size of each point on our plot is determined by their x value\n",
    "#plt.scatter(x_axis, comp_gt_1, marker=\"o\", facecolors=\"red\", edgecolors=\"black\")\n",
    "plt.plot(x_axis, comp_gt_1, marker=\"o\")"
   ]
  },
  {
   "cell_type": "code",
   "execution_count": 102,
   "metadata": {
    "scrolled": true
   },
   "outputs": [
    {
     "data": {
      "image/png": "[encoded data removed]",
      "text/plain": [
       "<Figure size 1440x432 with 1 Axes>"
      ]
     },
     "metadata": {
      "needs_background": "light"
     },
     "output_type": "display_data"
    }
   ],
   "source": [
    "comp_gt_150 = counts[counts[\"Main Line of Business\"] > 150\n",
    "                    ]\n",
    "comp_gt_150.head(10)\n",
    "plt.figure(figsize=(20,10))\n",
    "\n",
    "plt.title('Figure . Main Lines of Business > 150 businesses', fontsize=18)\n",
    "x_axis = comp_gt_250.index\n",
    "#plt.xlabel(x_axis, fontsize=8)\n",
    "plt.ylabel('Count of each business type', fontsize=14)\n",
    "plt.grid()\n",
    "# Set x axis and tick locations\n",
    "\n",
    "comp_gt_250[\"Main Line of Business\"].plot(kind=\"bar\", figsize=(20,6))\n",
    "plt.show()"
   ]
  }
 ],
 "metadata": {
  "anaconda-cloud": {},
  "kernel_info": {
   "name": "python3"
  },
  "kernelspec": {
   "display_name": "Python 3",
   "language": "python",
   "name": "python3"
  },
  "language_info": {
   "codemirror_mode": {
    "name": "ipython",
    "version": 3
   },
   "file_extension": ".py",
   "mimetype": "text/x-python",
   "name": "python",
   "nbconvert_exporter": "python",
   "pygments_lexer": "ipython3",
   "version": "3.7.3"
  },
  "nteract": {
   "version": "0.12.3"
  }
 },
 "nbformat": 4,
 "nbformat_minor": 2
}
